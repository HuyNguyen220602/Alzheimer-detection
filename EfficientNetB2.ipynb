{
 "cells": [
  {
   "cell_type": "code",
   "execution_count": 1,
   "metadata": {},
   "outputs": [
    {
     "name": "stdout",
     "output_type": "stream",
     "text": [
      "Original data shape:  (248, 248, 248)\n",
      "Resized and converted data shape:  (240, 240, 3)\n",
      "Original data shape:  (256, 256, 48, 1)\n",
      "Resized and converted data shape:  (240, 240, 3)\n"
     ]
    }
   ],
   "source": [
    "import glob\n",
    "import os\n",
    "import nibabel as nib\n",
    "import numpy as np\n",
    "import cv2\n",
    "import tensorflow as tf\n",
    "\n",
    "def preprocess_data(data_dir):\n",
    "    files = glob.glob(os.path.join(data_dir, '*.nii'))\n",
    "    data = [nib.load(f).get_fdata() for f in files]\n",
    "    slices = []\n",
    "\n",
    "    max_shape = [0, 0]\n",
    "    for d in data:\n",
    "        for i in range(d.shape[2]):\n",
    "            slice = d[:, :, i]\n",
    "            slice = (slice - slice.mean()) / slice.std()\n",
    "            slice_shape = cv2.resize(slice, (240,240), interpolation=cv2.INTER_CUBIC).shape[:2]\n",
    "            max_shape = np.maximum(max_shape, slice_shape)\n",
    "\n",
    "    for d in data:\n",
    "        for i in range(d.shape[2]):\n",
    "            slice = d[:, :, i]\n",
    "            slice = (slice - slice.mean()) / slice.std()\n",
    "            slice = cv2.resize(slice, (max_shape[1], max_shape[0]), interpolation=cv2.INTER_CUBIC)\n",
    "            slice = np.uint8(slice)\n",
    "            slice = cv2.cvtColor(slice, cv2.COLOR_GRAY2RGB)\n",
    "            slices.append(slice)\n",
    "\n",
    "    print(\"Original data shape: \", data[0].shape)\n",
    "    print(\"Resized and converted data shape: \", slices[0].shape)\n",
    "    return slices\n",
    "\n",
    "def prepare_data(slices):\n",
    "    # Convert data to float32 and normalize\n",
    "    slices = np.array(slices, dtype='float32') / 255.\n",
    "    mean = np.array([0.485, 0.456, 0.406])\n",
    "    std = np.array([0.229, 0.224, 0.225])\n",
    "    # Subtract the mean\n",
    "    slices = slices - mean\n",
    "    # Divide by the standard deviation\n",
    "    slices = slices / std\n",
    "    return slices\n",
    "\n",
    "mci_data = preprocess_data('D:\\\\MCI\\\\MCI_folder\\\\MCI_preprocess')\n",
    "mci_data = prepare_data(mci_data)\n",
    "\n",
    "ad_data = preprocess_data('D:\\AD\\AD_folder\\AD_preprocess')\n",
    "ad_data = prepare_data(ad_data)"
   ]
  },
  {
   "cell_type": "code",
   "execution_count": 2,
   "metadata": {},
   "outputs": [],
   "source": [
    "import numpy as np\n",
    "import cv2\n",
    "\n",
    "def rescale_data(mci_data, ad_data):\n",
    "    mci_samples = mci_data.shape[0]\n",
    "    ad_samples = ad_data.shape[0]\n",
    "    num_samples = min(mci_samples, ad_samples)\n",
    "\n",
    "    mci_data = mci_data[:num_samples, :, :, :]\n",
    "    ad_data = ad_data[:num_samples, :, :, :]\n",
    "\n",
    "# Resize the data to fit the input size of EfficientNetB2\n",
    "    mci_data = np.array([cv2.resize(slice, (240, 240), interpolation=cv2.INTER_CUBIC) for slice in mci_data])\n",
    "    ad_data = np.array([cv2.resize(slice, (240, 240), interpolation=cv2.INTER_CUBIC) for slice in ad_data])\n",
    "\n",
    "    return mci_data, ad_data\n",
    "mci_data, ad_data = rescale_data(mci_data, ad_data)"
   ]
  },
  {
   "cell_type": "code",
   "execution_count": 3,
   "metadata": {},
   "outputs": [
    {
     "name": "stdout",
     "output_type": "stream",
     "text": [
      "Train data shape:  (688, 240, 240, 3)\n",
      "Train labels shape:  (688,)\n",
      "Test data shape:  (148, 240, 240, 3)\n",
      "Test labels shape:  (148,)\n",
      "Validation data shape:  (148, 240, 240, 3)\n",
      "Validation labels shape:  (148,)\n"
     ]
    }
   ],
   "source": [
    "import numpy as np\n",
    "from sklearn.model_selection import train_test_split\n",
    "\n",
    "data = np.concatenate((mci_data, ad_data), axis=0)\n",
    "labels = np.concatenate((np.zeros(len(mci_data)), np.ones(len(ad_data))))\n",
    "\n",
    "def split_data(data, labels):\n",
    "\n",
    "    # Resize the data to (240, 240, 3)\n",
    "    data = np.array([np.resize(img, (240, 240, 3)) for img in data])\n",
    "\n",
    "    # Randomly split the data into train, test, and validation sets\n",
    "    train_data, test_val_data, train_labels, test_val_labels = train_test_split(data, labels, test_size=0.3, random_state=0, stratify=labels)\n",
    "    test_data, val_data, test_labels, val_labels = train_test_split(test_val_data, test_val_labels, test_size=0.5, random_state=0, stratify=test_val_labels)\n",
    "\n",
    "    return train_data, train_labels, test_data, test_labels, val_data, val_labels\n",
    "\n",
    "train_data, train_labels, test_data, test_labels, val_data, val_labels = split_data(data, labels)\n",
    "print(\"Train data shape: \", train_data.shape)\n",
    "print(\"Train labels shape: \", train_labels.shape)\n",
    "print(\"Test data shape: \", test_data.shape)\n",
    "print(\"Test labels shape: \", test_labels.shape)\n",
    "print(\"Validation data shape: \", val_data.shape)\n",
    "print(\"Validation labels shape: \", val_labels.shape)"
   ]
  },
  {
   "cell_type": "code",
   "execution_count": 4,
   "metadata": {},
   "outputs": [
    {
     "name": "stderr",
     "output_type": "stream",
     "text": [
      "f:\\File Visual studio\\File python 3.10\\lib\\site-packages\\keras\\optimizer_v2\\adam.py:105: UserWarning: The `lr` argument is deprecated, use `learning_rate` instead.\n",
      "  super(Adam, self).__init__(name, **kwargs)\n"
     ]
    },
    {
     "name": "stdout",
     "output_type": "stream",
     "text": [
      "Epoch 1/10\n",
      "22/22 [==============================] - 71s 3s/step - loss: 0.7003 - accuracy: 0.4913 - val_loss: 0.6957 - val_accuracy: 0.5000\n",
      "Epoch 2/10\n",
      "22/22 [==============================] - 49s 2s/step - loss: 0.6951 - accuracy: 0.5058 - val_loss: 0.6944 - val_accuracy: 0.3851\n",
      "Epoch 3/10\n",
      "22/22 [==============================] - 62s 3s/step - loss: 0.6949 - accuracy: 0.4651 - val_loss: 0.6935 - val_accuracy: 0.5000\n",
      "Epoch 4/10\n",
      "22/22 [==============================] - 58s 3s/step - loss: 0.6954 - accuracy: 0.4608 - val_loss: 0.6928 - val_accuracy: 0.5000\n",
      "Epoch 5/10\n",
      "22/22 [==============================] - 59s 3s/step - loss: 0.6933 - accuracy: 0.5000 - val_loss: 0.6921 - val_accuracy: 0.6149\n",
      "Epoch 6/10\n",
      "22/22 [==============================] - 52s 2s/step - loss: 0.6923 - accuracy: 0.5131 - val_loss: 0.6911 - val_accuracy: 0.5000\n",
      "Epoch 7/10\n",
      "22/22 [==============================] - 55s 3s/step - loss: 0.6945 - accuracy: 0.4855 - val_loss: 0.6906 - val_accuracy: 0.5000\n",
      "Epoch 8/10\n",
      "22/22 [==============================] - 59s 3s/step - loss: 0.6901 - accuracy: 0.5494 - val_loss: 0.6897 - val_accuracy: 0.8378\n",
      "Epoch 9/10\n",
      "22/22 [==============================] - 113s 5s/step - loss: 0.6905 - accuracy: 0.5436 - val_loss: 0.6895 - val_accuracy: 0.5000\n",
      "Epoch 10/10\n",
      "22/22 [==============================] - 113s 5s/step - loss: 0.6906 - accuracy: 0.5625 - val_loss: 0.6891 - val_accuracy: 0.8311\n"
     ]
    }
   ],
   "source": [
    "from tensorflow.keras.applications import EfficientNetB2\n",
    "from tensorflow.keras.layers import Dense, GlobalAveragePooling2D\n",
    "from tensorflow.keras.models import Model\n",
    "from tensorflow.keras.optimizers import Adam\n",
    "from tensorflow.keras.preprocessing.image import ImageDataGenerator\n",
    "\n",
    "# Load the pre-trained EfficientNetB2 model and remove the top layer\n",
    "base_model = EfficientNetB2(weights='imagenet', include_top=False, input_shape=(240, 240, 3))\n",
    "x = base_model.output\n",
    "\n",
    "# Add a global average pooling layer and a dense layer\n",
    "x = GlobalAveragePooling2D()(x)\n",
    "x = Dense(256, activation='relu')(x)\n",
    "x = Dense(1, activation='sigmoid')(x)\n",
    "\n",
    "# Create the final model\n",
    "model = Model(inputs=base_model.input, outputs=x)\n",
    "\n",
    "# Freeze all the layers in the base model\n",
    "for layer in base_model.layers:\n",
    "    layer.trainable = False\n",
    "\n",
    "# Compile the model\n",
    "model.compile(optimizer=Adam(lr=1e-5), loss='binary_crossentropy', metrics=['accuracy'])\n",
    "\n",
    "# Initialize the data augmentation generator\n",
    "datagen = ImageDataGenerator(\n",
    "    rotation_range=15,\n",
    "    width_shift_range=0.1,\n",
    "    height_shift_range=0.1,\n",
    "    zoom_range=0.1,\n",
    "    horizontal_flip=True,\n",
    "    vertical_flip=True\n",
    ")\n",
    "\n",
    "# Fit the model using the generator\n",
    "history = model.fit(\n",
    "    train_data, train_labels,\n",
    "    batch_size=32,\n",
    "    epochs=10,\n",
    "    validation_data=(val_data, val_labels)\n",
    ")"
   ]
  },
  {
   "cell_type": "code",
   "execution_count": 5,
   "metadata": {},
   "outputs": [
    {
     "name": "stdout",
     "output_type": "stream",
     "text": [
      "5/5 [==============================] - 13s 2s/step - loss: 0.6890 - accuracy: 0.8514\n",
      "Test Loss:  0.6890039443969727\n",
      "Test Accuracy:  85.13513803482056 %\n"
     ]
    }
   ],
   "source": [
    "# Evaluate the model on the test data\n",
    "test_loss, test_accuracy = model.evaluate(test_data, test_labels)\n",
    "print(\"Test Loss: \", test_loss)\n",
    "print(\"Test Accuracy: \", test_accuracy * 100, \"%\")"
   ]
  },
  {
   "cell_type": "code",
   "execution_count": 6,
   "metadata": {},
   "outputs": [
    {
     "data": {
      "image/png": "[encoded data removed]",
      "text/plain": [
       "<Figure size 800x800 with 2 Axes>"
      ]
     },
     "metadata": {},
     "output_type": "display_data"
    }
   ],
   "source": [
    "import matplotlib.pyplot as plt\n",
    "\n",
    "acc = history.history['accuracy']\n",
    "val_acc = history.history['val_accuracy']\n",
    "loss = history.history['loss']\n",
    "val_loss = history.history['val_loss']\n",
    "\n",
    "plt.figure(figsize=(8, 8))\n",
    "plt.subplot(2, 1, 1)\n",
    "plt.plot(acc, label='Training Accuracy')\n",
    "plt.plot(val_acc, label='Validation Accuracy')\n",
    "plt.legend(loc='lower right')\n",
    "plt.ylabel('Accuracy')\n",
    "plt.ylim([min(plt.ylim()), 1])\n",
    "plt.title('Training and Validation Accuracy')\n",
    "\n",
    "plt.subplot(2, 1, 2)\n",
    "plt.plot(loss, label='Training Loss')\n",
    "plt.plot(val_loss, label='Validation Loss')\n",
    "plt.legend(loc='upper right')\n",
    "plt.ylabel('Cross Entropy')\n",
    "plt.ylim([0, 1.0])\n",
    "plt.title('Training and Validation Loss')\n",
    "plt.xlabel('epoch')\n",
    "plt.show()"
   ]
  },
  {
   "cell_type": "code",
   "execution_count": 7,
   "metadata": {},
   "outputs": [
    {
     "name": "stdout",
     "output_type": "stream",
     "text": [
      "5/5 [==============================] - 13s 2s/step - loss: 0.6890 - accuracy: 0.8514\n",
      "Test accuracy: 85.14%\n",
      "Prediction accuracy: 50.00%\n"
     ]
    }
   ],
   "source": [
    "# Evaluate the model on the test data\n",
    "test_loss, test_accuracy = model.evaluate(test_data, test_labels)\n",
    "print(\"Test accuracy: {:.2f}%\".format(test_accuracy * 100))\n",
    "\n",
    "# Make predictions on the test data\n",
    "predictions = model.predict(test_data)\n",
    "\n",
    "# Round the predictions to 0 or 1\n",
    "rounded_predictions = np.round(predictions)\n",
    "\n",
    "# Calculate the accuracy of the model\n",
    "accuracy = np.mean(rounded_predictions == test_labels)\n",
    "print(\"Prediction accuracy: {:.2f}%\".format(accuracy * 100))"
   ]
  },
  {
   "cell_type": "code",
   "execution_count": 34,
   "metadata": {},
   "outputs": [
    {
     "name": "stdout",
     "output_type": "stream",
     "text": [
      "[['AD']\n",
      " ['AD']\n",
      " ['AD']\n",
      " ['AD']\n",
      " ['AD']\n",
      " ['AD']\n",
      " ['AD']\n",
      " ['MCI']\n",
      " ['AD']\n",
      " ['AD']]\n"
     ]
    }
   ],
   "source": [
    "train_predictions = model.predict(train_data)\n",
    "train_labels_predicted = np.round(train_predictions)\n",
    "train_labels_predicted = np.where(train_labels_predicted < 0.5, 'MCI', 'AD')\n",
    "print(train_labels_predicted[:10])"
   ]
  },
  {
   "cell_type": "code",
   "execution_count": 35,
   "metadata": {},
   "outputs": [
    {
     "name": "stdout",
     "output_type": "stream",
     "text": [
      "[[False]\n",
      " [ True]\n",
      " [ True]\n",
      " [ True]\n",
      " [False]]\n"
     ]
    }
   ],
   "source": [
    "# Predicting the test set results\n",
    "y_pred = model.predict(test_data)\n",
    "y_pred = (y_pred > 0.5)\n",
    "print(y_pred[:5])"
   ]
  },
  {
   "cell_type": "code",
   "execution_count": 43,
   "metadata": {},
   "outputs": [
    {
     "name": "stdout",
     "output_type": "stream",
     "text": [
      "    True Labels Predicted Labels\n",
      "0             0              [1]\n",
      "1             0              [1]\n",
      "2             0              [1]\n",
      "3             1              [1]\n",
      "4             1              [1]\n",
      "5             1              [1]\n",
      "6             1              [1]\n",
      "7             0              [0]\n",
      "8             0              [1]\n",
      "9             1              [1]\n",
      "10            0              [0]\n",
      "11            0              [0]\n",
      "12            1              [1]\n",
      "13            1              [1]\n",
      "14            0              [0]\n",
      "15            1              [1]\n",
      "16            1              [1]\n",
      "17            0              [0]\n",
      "18            1              [1]\n",
      "19            0              [1]\n",
      "Accuracy: 82.70%\n"
     ]
    }
   ],
   "source": [
    "from sklearn.metrics import accuracy_score\n",
    "\n",
    "train_predictions = model.predict(train_data)\n",
    "train_labels_predicted = np.round(train_predictions)\n",
    "train_labels_predicted = np.where(train_labels_predicted < 0.5, 0, 1)\n",
    "\n",
    "import pandas as pd\n",
    "data_prediction = list(zip(train_labels, train_labels_predicted))\n",
    "data_prediction = pd.DataFrame(data_prediction, columns=['True Labels', 'Predicted Labels'])\n",
    "print(data_prediction.head(20))\n",
    "\n",
    "accuracy = accuracy_score(train_labels, train_labels_predicted)\n",
    "print(\"Accuracy: {:.2f}%\".format(accuracy * 100))"
   ]
  }
 ],
 "metadata": {
  "kernelspec": {
   "display_name": "Python 3",
   "language": "python",
   "name": "python3"
  },
  "language_info": {
   "codemirror_mode": {
    "name": "ipython",
    "version": 3
   },
   "file_extension": ".py",
   "mimetype": "text/x-python",
   "name": "python",
   "nbconvert_exporter": "python",
   "pygments_lexer": "ipython3",
   "version": "3.10.9"
  },
  "orig_nbformat": 4,
  "vscode": {
   "interpreter": {
    "hash": "de399c723f2cdec87d6c2e5e046efc7ee00b7a860c8a7bdebcf674ffc7d648eb"
   }
  }
 },
 "nbformat": 4,
 "nbformat_minor": 2
}
